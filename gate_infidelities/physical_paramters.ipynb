{
 "cells": [
  {
   "cell_type": "markdown",
   "metadata": {},
   "source": [
    "# Gate infidelity calculation\n",
    "This notebook uses physical value to calculate the gate infidelity of a two-qubit spin gate for electrons in Penning trap. The motional mode is assumed to be the axial mode.\n",
    "\n",
    "Parameters:\n",
    "Magnetic field gradient 250 T/m at 50 $\\mu \\mathrm{m}$ above the surface.\n",
    "$\\frac{d^3B}{dz^3}=-7.2\\times 10^9\\ \\mathrm{T/m}^3$.\n",
    "\n",
    "We scan the axial frequency from 10 MHz to 1GHz."
   ]
  },
  {
   "cell_type": "code",
   "execution_count": null,
   "metadata": {
    "vscode": {
     "languageId": "plaintext"
    }
   },
   "outputs": [],
   "source": []
  }
 ],
 "metadata": {
  "language_info": {
   "name": "python"
  }
 },
 "nbformat": 4,
 "nbformat_minor": 2
}
